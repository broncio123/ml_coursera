{
 "cells": [
  {
   "cell_type": "markdown",
   "id": "2f285e75",
   "metadata": {},
   "source": [
    "# Polynomial regression "
   ]
  },
  {
   "cell_type": "markdown",
   "id": "bebfd295",
   "metadata": {},
   "source": [
    "Non-linear one-dimensional polynomial regression model can be turned into a multiple linear regression model.\n",
    "\n",
    "Use the following transformation.\n",
    "\n",
    "$$\n",
    "x_1 = x\\\\\n",
    "x_2 = x^2\\\\\n",
    "x_3 = x^4\n",
    "$$\n",
    "\n",
    "So, LE can be used."
   ]
  },
  {
   "cell_type": "markdown",
   "id": "14a795b5",
   "metadata": {
    "ExecuteTime": {
     "end_time": "2021-06-26T13:50:02.221903Z",
     "start_time": "2021-06-26T13:50:02.213472Z"
    }
   },
   "source": [
    "NOTE: Nonlinear means nonlinear by parameters."
   ]
  },
  {
   "cell_type": "markdown",
   "id": "d3ccb4ac",
   "metadata": {},
   "source": [
    "How to distinguish a LR from a NLR problem?\n",
    "\n",
    "* Inspect visually: Plot x and y\n",
    "* Compute correlation coefficient between target output var and all predictive vars, and if higher than 0.7 then NLR problem.\n",
    "* Based on accuracy - test LR model and check if low accuracy.\n",
    "\n",
    "\n",
    "How to model my data if NL in scatter plot?\n",
    "* Polynomial regression\n",
    "* NLR model\n",
    "* Transfor data (OUT OF SCOPE OF THE COURSE!)"
   ]
  },
  {
   "cell_type": "markdown",
   "id": "769e925b",
   "metadata": {},
   "source": [
    "# Practical "
   ]
  },
  {
   "cell_type": "code",
   "execution_count": 2,
   "id": "e8dc2b06",
   "metadata": {
    "ExecuteTime": {
     "end_time": "2021-06-26T13:59:43.584703Z",
     "start_time": "2021-06-26T13:59:42.325332Z"
    }
   },
   "outputs": [],
   "source": [
    "import matplotlib.pyplot as plt\n",
    "import pandas as pd\n",
    "import pylab as pl\n",
    "import numpy as np\n",
    "%matplotlib inline"
   ]
  },
  {
   "cell_type": "markdown",
   "id": "c8ab9814",
   "metadata": {},
   "source": [
    "Load dataset as a data frame"
   ]
  },
  {
   "cell_type": "code",
   "execution_count": 4,
   "id": "39ab71b7",
   "metadata": {
    "ExecuteTime": {
     "end_time": "2021-06-26T14:01:41.292968Z",
     "start_time": "2021-06-26T14:01:41.271883Z"
    }
   },
   "outputs": [],
   "source": [
    "df = pd.read_csv(\"FuelConsumptionCo2.csv\")"
   ]
  },
  {
   "cell_type": "code",
   "execution_count": null,
   "id": "73059305",
   "metadata": {
    "ExecuteTime": {
     "end_time": "2021-06-26T14:02:02.968504Z",
     "start_time": "2021-06-26T14:02:02.955550Z"
    }
   },
   "outputs": [],
   "source": [
    "cdf = df[['ENGINESIZE','CYLINDERS','FUELCONSUMPTION_COMB','CO2EMISSIONS']]"
   ]
  },
  {
   "cell_type": "markdown",
   "id": "e48daabc",
   "metadata": {},
   "source": [
    "Inspect data visually for any nonlinear trends"
   ]
  },
  {
   "cell_type": "code",
   "execution_count": 6,
   "id": "b5c2bdf1",
   "metadata": {
    "ExecuteTime": {
     "end_time": "2021-06-26T14:02:15.152832Z",
     "start_time": "2021-06-26T14:02:14.817830Z"
    }
   },
   "outputs": [
    {
     "data": {
      "image/png": "[encoded data removed]",
      "text/plain": [
       "<Figure size 432x288 with 1 Axes>"
      ]
     },
     "metadata": {
      "needs_background": "light"
     },
     "output_type": "display_data"
    }
   ],
   "source": [
    "plt.scatter(cdf.ENGINESIZE, cdf.CO2EMISSIONS,  color='blue')\n",
    "plt.xlabel(\"Engine size\")\n",
    "plt.ylabel(\"Emission\")\n",
    "plt.show()"
   ]
  },
  {
   "cell_type": "markdown",
   "id": "5d8204db",
   "metadata": {},
   "source": [
    "Split dataset into train and test sets"
   ]
  },
  {
   "cell_type": "code",
   "execution_count": 41,
   "id": "1a096a33",
   "metadata": {
    "ExecuteTime": {
     "end_time": "2021-06-26T14:34:43.627426Z",
     "start_time": "2021-06-26T14:34:43.617118Z"
    }
   },
   "outputs": [],
   "source": [
    "mask = np.random.rand(len(cdf)) < 0.8\n",
    "train = cdf[mask]\n",
    "test  = cdf[~mask]"
   ]
  },
  {
   "cell_type": "markdown",
   "id": "e5a1b1ff",
   "metadata": {},
   "source": [
    "Import relevant functions"
   ]
  },
  {
   "cell_type": "code",
   "execution_count": 42,
   "id": "507d6022",
   "metadata": {
    "ExecuteTime": {
     "end_time": "2021-06-26T14:34:44.396826Z",
     "start_time": "2021-06-26T14:34:44.391254Z"
    }
   },
   "outputs": [],
   "source": [
    "from sklearn.preprocessing import PolynomialFeatures\n",
    "from sklearn import linear_model"
   ]
  },
  {
   "cell_type": "markdown",
   "id": "300394f4",
   "metadata": {},
   "source": [
    "Split train and test sets into components"
   ]
  },
  {
   "cell_type": "code",
   "execution_count": 43,
   "id": "c8934ef5",
   "metadata": {
    "ExecuteTime": {
     "end_time": "2021-06-26T14:34:46.374464Z",
     "start_time": "2021-06-26T14:34:46.359321Z"
    }
   },
   "outputs": [],
   "source": [
    "train_x = np.array(train[['ENGINESIZE']])\n",
    "train_y = np.array(train['CO2EMISSIONS'])\n",
    "\n",
    "test_x = np.array(test[['ENGINESIZE']])\n",
    "test_y = np.array(test[['CO2EMISSIONS']])"
   ]
  },
  {
   "cell_type": "markdown",
   "id": "c56f2fb1",
   "metadata": {},
   "source": [
    "Transform data into a multivairate representation"
   ]
  },
  {
   "cell_type": "code",
   "execution_count": 44,
   "id": "91d1f83c",
   "metadata": {
    "ExecuteTime": {
     "end_time": "2021-06-26T14:34:47.806532Z",
     "start_time": "2021-06-26T14:34:47.799270Z"
    }
   },
   "outputs": [],
   "source": [
    "poly = PolynomialFeatures(degree=2)\n",
    "train_x_poly = poly.fit_transform(train_x)"
   ]
  },
  {
   "cell_type": "code",
   "execution_count": 45,
   "id": "2edf3237",
   "metadata": {
    "ExecuteTime": {
     "end_time": "2021-06-26T14:34:48.321657Z",
     "start_time": "2021-06-26T14:34:48.281678Z"
    }
   },
   "outputs": [
    {
     "data": {
      "text/plain": [
       "array([[2.4],\n",
       "       [1.5],\n",
       "       [3.5],\n",
       "       [3.5],\n",
       "       [3.5],\n",
       "       [3.7],\n",
       "       [3.7],\n",
       "       [2.4],\n",
       "       [2.4],\n",
       "       [3.5],\n",
       "       [5.9],\n",
       "       [5.9],\n",
       "       [4.7],\n",
       "       [4.7],\n",
       "       [4.7],\n",
       "       [5.9],\n",
       "       [2. ],\n",
       "       [2. ],\n",
       "       [2. ],\n",
       "       [2. ],\n",
       "       [2. ],\n",
       "       [2. ],\n",
       "       [2. ],\n",
       "       [3. ],\n",
       "       [3. ],\n",
       "       [3. ],\n",
       "       [3. ],\n",
       "       [4. ],\n",
       "       [3. ],\n",
       "       [4. ],\n",
       "       [6.3],\n",
       "       [3. ],\n",
       "       [2. ],\n",
       "       [2. ],\n",
       "       [2. ],\n",
       "       [3. ],\n",
       "       [3. ],\n",
       "       [4.2],\n",
       "       [4.2],\n",
       "       [5.2],\n",
       "       [5.2],\n",
       "       [4.2],\n",
       "       [4.2],\n",
       "       [5.2],\n",
       "       [5.2],\n",
       "       [4.2],\n",
       "       [4.2],\n",
       "       [3. ],\n",
       "       [3. ],\n",
       "       [3. ],\n",
       "       [3. ],\n",
       "       [3. ],\n",
       "       [4. ],\n",
       "       [4. ],\n",
       "       [4. ],\n",
       "       [3. ],\n",
       "       [2. ],\n",
       "       [2. ],\n",
       "       [2. ],\n",
       "       [4. ],\n",
       "       [6. ],\n",
       "       [4. ],\n",
       "       [6. ],\n",
       "       [6. ],\n",
       "       [2. ],\n",
       "       [2. ],\n",
       "       [2. ],\n",
       "       [2. ],\n",
       "       [2. ],\n",
       "       [2. ],\n",
       "       [2. ],\n",
       "       [3. ],\n",
       "       [3. ],\n",
       "       [3. ],\n",
       "       [3. ],\n",
       "       [3. ],\n",
       "       [2. ],\n",
       "       [2. ],\n",
       "       [2. ],\n",
       "       [3. ],\n",
       "       [3. ],\n",
       "       [2. ],\n",
       "       [2. ],\n",
       "       [3. ],\n",
       "       [3. ],\n",
       "       [3. ],\n",
       "       [4.4],\n",
       "       [3. ],\n",
       "       [4.4],\n",
       "       [3. ],\n",
       "       [4.4],\n",
       "       [6. ],\n",
       "       [3. ],\n",
       "       [3. ],\n",
       "       [3. ],\n",
       "       [4.4],\n",
       "       [4.4],\n",
       "       [4.4],\n",
       "       [4.4],\n",
       "       [4.4],\n",
       "       [4.4],\n",
       "       [4.4],\n",
       "       [4.4],\n",
       "       [2. ],\n",
       "       [3. ],\n",
       "       [2. ],\n",
       "       [3. ],\n",
       "       [4.4],\n",
       "       [4.4],\n",
       "       [3. ],\n",
       "       [4.4],\n",
       "       [2. ],\n",
       "       [3. ],\n",
       "       [3. ],\n",
       "       [3. ],\n",
       "       [3.6],\n",
       "       [1.4],\n",
       "       [1.4],\n",
       "       [3.6],\n",
       "       [3.6],\n",
       "       [3.6],\n",
       "       [3.6],\n",
       "       [2.4],\n",
       "       [2. ],\n",
       "       [2.4],\n",
       "       [2. ],\n",
       "       [2. ],\n",
       "       [2. ],\n",
       "       [2. ],\n",
       "       [2.5],\n",
       "       [3.6],\n",
       "       [2. ],\n",
       "       [3.6],\n",
       "       [3.6],\n",
       "       [2. ],\n",
       "       [3.6],\n",
       "       [3.6],\n",
       "       [3. ],\n",
       "       [3. ],\n",
       "       [3.6],\n",
       "       [6.2],\n",
       "       [6.2],\n",
       "       [6.2],\n",
       "       [6.2],\n",
       "       [6.2],\n",
       "       [6.2],\n",
       "       [6.2],\n",
       "       [3.6],\n",
       "       [3.6],\n",
       "       [3.6],\n",
       "       [3.6],\n",
       "       [3.6],\n",
       "       [3.6],\n",
       "       [3.6],\n",
       "       [6.2],\n",
       "       [6.2],\n",
       "       [6.2],\n",
       "       [6.2],\n",
       "       [1.4],\n",
       "       [1.4],\n",
       "       [1.8],\n",
       "       [2. ],\n",
       "       [1.4],\n",
       "       [1.4],\n",
       "       [3.6],\n",
       "       [2.4],\n",
       "       [3.6],\n",
       "       [4.3],\n",
       "       [5.3],\n",
       "       [5.3],\n",
       "       [5.3],\n",
       "       [5.3],\n",
       "       [5.3],\n",
       "       [5.3],\n",
       "       [5.3],\n",
       "       [5.3],\n",
       "       [5.3],\n",
       "       [4.8],\n",
       "       [6. ],\n",
       "       [6. ],\n",
       "       [4.8],\n",
       "       [6. ],\n",
       "       [2.5],\n",
       "       [3.6],\n",
       "       [3.6],\n",
       "       [2.4],\n",
       "       [2.4],\n",
       "       [4.3],\n",
       "       [4.3],\n",
       "       [5.3],\n",
       "       [5.3],\n",
       "       [6.2],\n",
       "       [5.3],\n",
       "       [5.3],\n",
       "       [1.4],\n",
       "       [1.4],\n",
       "       [1.8],\n",
       "       [1.8],\n",
       "       [1.4],\n",
       "       [1.4],\n",
       "       [1.8],\n",
       "       [1.8],\n",
       "       [1.4],\n",
       "       [1.4],\n",
       "       [1.4],\n",
       "       [1.4],\n",
       "       [1.2],\n",
       "       [1.2],\n",
       "       [5.3],\n",
       "       [5.3],\n",
       "       [5.3],\n",
       "       [5.3],\n",
       "       [5.3],\n",
       "       [5.3],\n",
       "       [3.6],\n",
       "       [3.6],\n",
       "       [1.4],\n",
       "       [1.4],\n",
       "       [1.4],\n",
       "       [3.6],\n",
       "       [2.4],\n",
       "       [3.6],\n",
       "       [2.4],\n",
       "       [3.6],\n",
       "       [5.7],\n",
       "       [3.6],\n",
       "       [3.6],\n",
       "       [3.6],\n",
       "       [3.6],\n",
       "       [3.6],\n",
       "       [6.4],\n",
       "       [3.6],\n",
       "       [2.4],\n",
       "       [3.6],\n",
       "       [6.4],\n",
       "       [6.4],\n",
       "       [3.6],\n",
       "       [3.6],\n",
       "       [5.7],\n",
       "       [3.6],\n",
       "       [5.7],\n",
       "       [3.6],\n",
       "       [3.6],\n",
       "       [3.6],\n",
       "       [3.6],\n",
       "       [3.6],\n",
       "       [3.6],\n",
       "       [6.4],\n",
       "       [2. ],\n",
       "       [2.4],\n",
       "       [2.4],\n",
       "       [2. ],\n",
       "       [2. ],\n",
       "       [2.4],\n",
       "       [2.4],\n",
       "       [1.4],\n",
       "       [5.7],\n",
       "       [3.6],\n",
       "       [3.6],\n",
       "       [3.6],\n",
       "       [3.6],\n",
       "       [3.6],\n",
       "       [1.4],\n",
       "       [1.4],\n",
       "       [1.4],\n",
       "       [1.4],\n",
       "       [1.4],\n",
       "       [1.4],\n",
       "       [1.4],\n",
       "       [1.4],\n",
       "       [1.4],\n",
       "       [1.4],\n",
       "       [4.6],\n",
       "       [5.4],\n",
       "       [5.4],\n",
       "       [4.6],\n",
       "       [4.6],\n",
       "       [5.4],\n",
       "       [2. ],\n",
       "       [3.5],\n",
       "       [3.5],\n",
       "       [3.7],\n",
       "       [1.6],\n",
       "       [2.5],\n",
       "       [2. ],\n",
       "       [5.4],\n",
       "       [5.4],\n",
       "       [3.5],\n",
       "       [3.5],\n",
       "       [3.5],\n",
       "       [3.5],\n",
       "       [3.5],\n",
       "       [6.2],\n",
       "       [6.2],\n",
       "       [3.7],\n",
       "       [3.7],\n",
       "       [3.7],\n",
       "       [5. ],\n",
       "       [5. ],\n",
       "       [5. ],\n",
       "       [3.7],\n",
       "       [3.7],\n",
       "       [3.7],\n",
       "       [5. ],\n",
       "       [5. ],\n",
       "       [6.2],\n",
       "       [1.6],\n",
       "       [1.6],\n",
       "       [1. ],\n",
       "       [1.6],\n",
       "       [3.5],\n",
       "       [3.5],\n",
       "       [3.5],\n",
       "       [2. ],\n",
       "       [2. ],\n",
       "       [2. ],\n",
       "       [2. ],\n",
       "       [2. ],\n",
       "       [2. ],\n",
       "       [2. ],\n",
       "       [2. ],\n",
       "       [1.5],\n",
       "       [1.6],\n",
       "       [2. ],\n",
       "       [2.5],\n",
       "       [2. ],\n",
       "       [3.7],\n",
       "       [3.7],\n",
       "       [5. ],\n",
       "       [5.8],\n",
       "       [3.7],\n",
       "       [2. ],\n",
       "       [3.5],\n",
       "       [3.5],\n",
       "       [3.5],\n",
       "       [3.5],\n",
       "       [3.5],\n",
       "       [1.6],\n",
       "       [2.5],\n",
       "       [2.5],\n",
       "       [3.6],\n",
       "       [3.6],\n",
       "       [4.3],\n",
       "       [5.3],\n",
       "       [5.3],\n",
       "       [5.3],\n",
       "       [5.3],\n",
       "       [5.3],\n",
       "       [5.3],\n",
       "       [5.3],\n",
       "       [5.3],\n",
       "       [5.3],\n",
       "       [5.3],\n",
       "       [4.8],\n",
       "       [6. ],\n",
       "       [6. ],\n",
       "       [4.8],\n",
       "       [6. ],\n",
       "       [4.3],\n",
       "       [4.3],\n",
       "       [5.3],\n",
       "       [6.2],\n",
       "       [4.3],\n",
       "       [4.3],\n",
       "       [5.3],\n",
       "       [5.3],\n",
       "       [2.4],\n",
       "       [3.6],\n",
       "       [3.6],\n",
       "       [2.4],\n",
       "       [3.6],\n",
       "       [5.3],\n",
       "       [5.3],\n",
       "       [5.3],\n",
       "       [5.3],\n",
       "       [6.2],\n",
       "       [6.2],\n",
       "       [6.2],\n",
       "       [5.3],\n",
       "       [5.3],\n",
       "       [5.3],\n",
       "       [2.4],\n",
       "       [3.5],\n",
       "       [3.5],\n",
       "       [3.5],\n",
       "       [2. ],\n",
       "       [1.8],\n",
       "       [3.5],\n",
       "       [2.4],\n",
       "       [2.4],\n",
       "       [1.5],\n",
       "       [1.5],\n",
       "       [1.5],\n",
       "       [1.5],\n",
       "       [3.5],\n",
       "       [3.5],\n",
       "       [3.5],\n",
       "       [3.5],\n",
       "       [1.6],\n",
       "       [1.6],\n",
       "       [2. ],\n",
       "       [5. ],\n",
       "       [3.8],\n",
       "       [3.3],\n",
       "       [3.3],\n",
       "       [2. ],\n",
       "       [2.4],\n",
       "       [2. ],\n",
       "       [2.4],\n",
       "       [2.4],\n",
       "       [2.4],\n",
       "       [2. ],\n",
       "       [2. ],\n",
       "       [2.4],\n",
       "       [2. ],\n",
       "       [2.4],\n",
       "       [1.6],\n",
       "       [1.6],\n",
       "       [3.7],\n",
       "       [3.7],\n",
       "       [3.5],\n",
       "       [3.5],\n",
       "       [3.7],\n",
       "       [3.7],\n",
       "       [3.7],\n",
       "       [3.7],\n",
       "       [3.7],\n",
       "       [5.6],\n",
       "       [3.5],\n",
       "       [3.7],\n",
       "       [3.5],\n",
       "       [2.5],\n",
       "       [5.6],\n",
       "       [3. ],\n",
       "       [3. ],\n",
       "       [5. ],\n",
       "       [2. ],\n",
       "       [3. ],\n",
       "       [3. ],\n",
       "       [5. ],\n",
       "       [5. ],\n",
       "       [3. ],\n",
       "       [5. ],\n",
       "       [5. ],\n",
       "       [5. ],\n",
       "       [5. ],\n",
       "       [5. ],\n",
       "       [5. ],\n",
       "       [5. ],\n",
       "       [5. ],\n",
       "       [2.4],\n",
       "       [3.2],\n",
       "       [2.4],\n",
       "       [3.2],\n",
       "       [2.4],\n",
       "       [3.2],\n",
       "       [2.4],\n",
       "       [3.2],\n",
       "       [2. ],\n",
       "       [2. ],\n",
       "       [2.4],\n",
       "       [2.4],\n",
       "       [2.4],\n",
       "       [3. ],\n",
       "       [3.6],\n",
       "       [3.6],\n",
       "       [6.4],\n",
       "       [2. ],\n",
       "       [2. ],\n",
       "       [2.4],\n",
       "       [2.4],\n",
       "       [2.4],\n",
       "       [2.4],\n",
       "       [3.6],\n",
       "       [3.6],\n",
       "       [3.3],\n",
       "       [1.8],\n",
       "       [2. ],\n",
       "       [2. ],\n",
       "       [1.6],\n",
       "       [1.6],\n",
       "       [2. ],\n",
       "       [2. ],\n",
       "       [1.6],\n",
       "       [1.6],\n",
       "       [2. ],\n",
       "       [2. ],\n",
       "       [2. ],\n",
       "       [1.6],\n",
       "       [1.6],\n",
       "       [1.6],\n",
       "       [2. ],\n",
       "       [2. ],\n",
       "       [3.5],\n",
       "       [2.4],\n",
       "       [3.3],\n",
       "       [2.4],\n",
       "       [3.3],\n",
       "       [1.6],\n",
       "       [1.6],\n",
       "       [2. ],\n",
       "       [2.4],\n",
       "       [2. ],\n",
       "       [6.5],\n",
       "       [5.2],\n",
       "       [5.2],\n",
       "       [2. ],\n",
       "       [3. ],\n",
       "       [2. ],\n",
       "       [5. ],\n",
       "       [5. ],\n",
       "       [5. ],\n",
       "       [3. ],\n",
       "       [3. ],\n",
       "       [3. ],\n",
       "       [5. ],\n",
       "       [5. ],\n",
       "       [3. ],\n",
       "       [3. ],\n",
       "       [3. ],\n",
       "       [5. ],\n",
       "       [5. ],\n",
       "       [1.8],\n",
       "       [2.5],\n",
       "       [3.5],\n",
       "       [3.5],\n",
       "       [3.5],\n",
       "       [3.5],\n",
       "       [2.5],\n",
       "       [3.5],\n",
       "       [3.5],\n",
       "       [3.5],\n",
       "       [4.6],\n",
       "       [4.6],\n",
       "       [4.6],\n",
       "       [5. ],\n",
       "       [5.7],\n",
       "       [3.5],\n",
       "       [3.5],\n",
       "       [3.5],\n",
       "       [3.7],\n",
       "       [3.5],\n",
       "       [2. ],\n",
       "       [3.7],\n",
       "       [2. ],\n",
       "       [5.4],\n",
       "       [5.4],\n",
       "       [3. ],\n",
       "       [3. ],\n",
       "       [4.7],\n",
       "       [3.8],\n",
       "       [2. ],\n",
       "       [2. ],\n",
       "       [2.5],\n",
       "       [2. ],\n",
       "       [2.5],\n",
       "       [3.7],\n",
       "       [3.7],\n",
       "       [1.5],\n",
       "       [1.5],\n",
       "       [2. ],\n",
       "       [2.5],\n",
       "       [2.5],\n",
       "       [2. ],\n",
       "       [2. ],\n",
       "       [2. ],\n",
       "       [2.5],\n",
       "       [2.5],\n",
       "       [2. ],\n",
       "       [2.5],\n",
       "       [2.5],\n",
       "       [2.5],\n",
       "       [2.5],\n",
       "       [2. ],\n",
       "       [2. ],\n",
       "       [2. ],\n",
       "       [1.8],\n",
       "       [1.8],\n",
       "       [3.5],\n",
       "       [3.5],\n",
       "       [3.5],\n",
       "       [3.5],\n",
       "       [6.2],\n",
       "       [4.7],\n",
       "       [5.5],\n",
       "       [2. ],\n",
       "       [2. ],\n",
       "       [4.7],\n",
       "       [5.5],\n",
       "       [5.5],\n",
       "       [2.1],\n",
       "       [3.5],\n",
       "       [3.5],\n",
       "       [3.5],\n",
       "       [3.5],\n",
       "       [3.5],\n",
       "       [3.5],\n",
       "       [4.7],\n",
       "       [4.7],\n",
       "       [5.5],\n",
       "       [5.5],\n",
       "       [5.5],\n",
       "       [5.5],\n",
       "       [5.5],\n",
       "       [3. ],\n",
       "       [4.7],\n",
       "       [4.7],\n",
       "       [5.5],\n",
       "       [2.1],\n",
       "       [3.5],\n",
       "       [3.5],\n",
       "       [3.5],\n",
       "       [3. ],\n",
       "       [4.7],\n",
       "       [5.5],\n",
       "       [4.7],\n",
       "       [5.5],\n",
       "       [4.7],\n",
       "       [5.5],\n",
       "       [6. ],\n",
       "       [1.8],\n",
       "       [1.8],\n",
       "       [3.5],\n",
       "       [5.5],\n",
       "       [6.2],\n",
       "       [6.2],\n",
       "       [1.6],\n",
       "       [1.6],\n",
       "       [1.6],\n",
       "       [1.6],\n",
       "       [1.6],\n",
       "       [1.6],\n",
       "       [1.6],\n",
       "       [1.6],\n",
       "       [1.6],\n",
       "       [1.6],\n",
       "       [1.6],\n",
       "       [1.6],\n",
       "       [1.6],\n",
       "       [1.6],\n",
       "       [1.6],\n",
       "       [1.6],\n",
       "       [1.6],\n",
       "       [1.6],\n",
       "       [1.6],\n",
       "       [1.6],\n",
       "       [1.6],\n",
       "       [1.6],\n",
       "       [1.6],\n",
       "       [1.6],\n",
       "       [1.6],\n",
       "       [1.6],\n",
       "       [1.6],\n",
       "       [1.6],\n",
       "       [1.6],\n",
       "       [1.6],\n",
       "       [1.6],\n",
       "       [1.6],\n",
       "       [1.6],\n",
       "       [2. ],\n",
       "       [2.4],\n",
       "       [2. ],\n",
       "       [2. ],\n",
       "       [2. ],\n",
       "       [2. ],\n",
       "       [2. ],\n",
       "       [1.2],\n",
       "       [1.2],\n",
       "       [2.4],\n",
       "       [2.4],\n",
       "       [3. ],\n",
       "       [2. ],\n",
       "       [2. ],\n",
       "       [3.7],\n",
       "       [3.7],\n",
       "       [3.7],\n",
       "       [3.7],\n",
       "       [3.5],\n",
       "       [5.6],\n",
       "       [2.5],\n",
       "       [4. ],\n",
       "       [4. ],\n",
       "       [4. ],\n",
       "       [3.8],\n",
       "       [1.6],\n",
       "       [1.6],\n",
       "       [1.6],\n",
       "       [3.5],\n",
       "       [3.5],\n",
       "       [3.5],\n",
       "       [2.5],\n",
       "       [3.5],\n",
       "       [2.5],\n",
       "       [2.5],\n",
       "       [1.8],\n",
       "       [1.8],\n",
       "       [5.6],\n",
       "       [1.6],\n",
       "       [1.6],\n",
       "       [4. ],\n",
       "       [3.4],\n",
       "       [3.4],\n",
       "       [3.4],\n",
       "       [3.4],\n",
       "       [3.4],\n",
       "       [3.4],\n",
       "       [3.8],\n",
       "       [3.8],\n",
       "       [3.8],\n",
       "       [3.8],\n",
       "       [3.4],\n",
       "       [3.8],\n",
       "       [3.8],\n",
       "       [3.8],\n",
       "       [3.8],\n",
       "       [3.8],\n",
       "       [3.8],\n",
       "       [3.8],\n",
       "       [3.8],\n",
       "       [3.4],\n",
       "       [3.4],\n",
       "       [3.6],\n",
       "       [3.6],\n",
       "       [3. ],\n",
       "       [4.8],\n",
       "       [4.8],\n",
       "       [4.8],\n",
       "       [2.7],\n",
       "       [3.4],\n",
       "       [3.6],\n",
       "       [3. ],\n",
       "       [3. ],\n",
       "       [4.8],\n",
       "       [3. ],\n",
       "       [5.7],\n",
       "       [5.7],\n",
       "       [5.7],\n",
       "       [5.7],\n",
       "       [3. ],\n",
       "       [3.6],\n",
       "       [3.6],\n",
       "       [3.6],\n",
       "       [3.6],\n",
       "       [3.6],\n",
       "       [3.6],\n",
       "       [3.6],\n",
       "       [6.6],\n",
       "       [6.6],\n",
       "       [6.7],\n",
       "       [6.7],\n",
       "       [6.7],\n",
       "       [6.7],\n",
       "       [2. ],\n",
       "       [2. ],\n",
       "       [1.3],\n",
       "       [2.5],\n",
       "       [1.8],\n",
       "       [1.8],\n",
       "       [8.4],\n",
       "       [2. ],\n",
       "       [2. ],\n",
       "       [2. ],\n",
       "       [2.5],\n",
       "       [2. ],\n",
       "       [2.5],\n",
       "       [2. ],\n",
       "       [2.5],\n",
       "       [2.5],\n",
       "       [2.5],\n",
       "       [3.6],\n",
       "       [2.5],\n",
       "       [2.5],\n",
       "       [3.6],\n",
       "       [3.6],\n",
       "       [2. ],\n",
       "       [2. ],\n",
       "       [2. ],\n",
       "       [4. ],\n",
       "       [4. ],\n",
       "       [3.5],\n",
       "       [2.5],\n",
       "       [3.5],\n",
       "       [2.5],\n",
       "       [1.8],\n",
       "       [1.8],\n",
       "       [1.8],\n",
       "       [1.8],\n",
       "       [1.8],\n",
       "       [1.8],\n",
       "       [1.8],\n",
       "       [4. ],\n",
       "       [4. ],\n",
       "       [2.7],\n",
       "       [3.5],\n",
       "       [3.5],\n",
       "       [3.5],\n",
       "       [3.5],\n",
       "       [1.8],\n",
       "       [1.5],\n",
       "       [1.8],\n",
       "       [2.5],\n",
       "       [2.5],\n",
       "       [5.7],\n",
       "       [3.5],\n",
       "       [3.5],\n",
       "       [2.7],\n",
       "       [2.7],\n",
       "       [4. ],\n",
       "       [4. ],\n",
       "       [4.6],\n",
       "       [5.7],\n",
       "       [4.6],\n",
       "       [5.7],\n",
       "       [2.7],\n",
       "       [3.5],\n",
       "       [2.7],\n",
       "       [3.5],\n",
       "       [1.5],\n",
       "       [1.8],\n",
       "       [1.8],\n",
       "       [2. ],\n",
       "       [2.5],\n",
       "       [2.5],\n",
       "       [1.8],\n",
       "       [2. ],\n",
       "       [2. ],\n",
       "       [2.5],\n",
       "       [2. ],\n",
       "       [2. ],\n",
       "       [2. ],\n",
       "       [3.6],\n",
       "       [2.5],\n",
       "       [2. ],\n",
       "       [1.8],\n",
       "       [2. ],\n",
       "       [2. ],\n",
       "       [2. ],\n",
       "       [1.8],\n",
       "       [2.5],\n",
       "       [3.6],\n",
       "       [2. ],\n",
       "       [2. ],\n",
       "       [3.6],\n",
       "       [2. ],\n",
       "       [2. ],\n",
       "       [2. ],\n",
       "       [3. ],\n",
       "       [2.5],\n",
       "       [3. ],\n",
       "       [3. ],\n",
       "       [3.2],\n",
       "       [3. ],\n",
       "       [3.2],\n",
       "       [3.2]])"
      ]
     },
     "execution_count": 45,
     "metadata": {},
     "output_type": "execute_result"
    }
   ],
   "source": [
    "train_x"
   ]
  },
  {
   "cell_type": "code",
   "execution_count": 46,
   "id": "2892d61b",
   "metadata": {
    "ExecuteTime": {
     "end_time": "2021-06-26T14:34:48.823140Z",
     "start_time": "2021-06-26T14:34:48.808063Z"
    }
   },
   "outputs": [
    {
     "data": {
      "text/plain": [
       "array([[ 1.  ,  2.4 ,  5.76],\n",
       "       [ 1.  ,  1.5 ,  2.25],\n",
       "       [ 1.  ,  3.5 , 12.25],\n",
       "       ...,\n",
       "       [ 1.  ,  3.  ,  9.  ],\n",
       "       [ 1.  ,  3.2 , 10.24],\n",
       "       [ 1.  ,  3.2 , 10.24]])"
      ]
     },
     "execution_count": 46,
     "metadata": {},
     "output_type": "execute_result"
    }
   ],
   "source": [
    "train_x_poly"
   ]
  },
  {
   "cell_type": "markdown",
   "id": "715f7fd7",
   "metadata": {},
   "source": [
    "STATEMENT: Polynomial regression is a special case of linear regression."
   ]
  },
  {
   "cell_type": "markdown",
   "id": "57002720",
   "metadata": {},
   "source": [
    "Train MLR model "
   ]
  },
  {
   "cell_type": "code",
   "execution_count": 47,
   "id": "34883fe0",
   "metadata": {
    "ExecuteTime": {
     "end_time": "2021-06-26T14:34:50.563169Z",
     "start_time": "2021-06-26T14:34:50.550762Z"
    }
   },
   "outputs": [
    {
     "data": {
      "text/plain": [
       "LinearRegression()"
      ]
     },
     "execution_count": 47,
     "metadata": {},
     "output_type": "execute_result"
    }
   ],
   "source": [
    "model = linear_model.LinearRegression()\n",
    "model.fit(train_x_poly, train_y)"
   ]
  },
  {
   "cell_type": "code",
   "execution_count": 48,
   "id": "dab7fbff",
   "metadata": {
    "ExecuteTime": {
     "end_time": "2021-06-26T14:34:51.455592Z",
     "start_time": "2021-06-26T14:34:51.424777Z"
    }
   },
   "outputs": [
    {
     "name": "stdout",
     "output_type": "stream",
     "text": [
      "Model parameters:  [ 0.         49.3431712  -1.36232159]\n",
      "Model intercept:  109.16691899601457\n"
     ]
    }
   ],
   "source": [
    "print(\"Model parameters: \", model.coef_)\n",
    "print(\"Model intercept: \", model.intercept_)"
   ]
  },
  {
   "cell_type": "markdown",
   "id": "1fe927ef",
   "metadata": {},
   "source": [
    "Test model and compare with analytical solution"
   ]
  },
  {
   "cell_type": "code",
   "execution_count": 49,
   "id": "e7f55eff",
   "metadata": {
    "ExecuteTime": {
     "end_time": "2021-06-26T14:34:53.037466Z",
     "start_time": "2021-06-26T14:34:52.782185Z"
    }
   },
   "outputs": [
    {
     "data": {
      "text/plain": [
       "Text(0, 0.5, 'Emission')"
      ]
     },
     "execution_count": 49,
     "metadata": {},
     "output_type": "execute_result"
    },
    {
     "data": {
      "image/png": "[encoded data removed]",
      "text/plain": [
       "<Figure size 432x288 with 1 Axes>"
      ]
     },
     "metadata": {
      "needs_background": "light"
     },
     "output_type": "display_data"
    }
   ],
   "source": [
    "plt.scatter(train.ENGINESIZE, train.CO2EMISSIONS,  color='blue')\n",
    "XX = np.arange(0.0, 10.0, 0.1)\n",
    "yy = model.intercept_+ model.coef_[1]*XX+ model.coef_[2]*np.power(XX, 2)\n",
    "plt.plot(XX, yy, '-r' )\n",
    "plt.xlabel(\"Engine size\")\n",
    "plt.ylabel(\"Emission\")"
   ]
  },
  {
   "cell_type": "markdown",
   "id": "43437d47",
   "metadata": {},
   "source": [
    "# Evaluation metrics"
   ]
  },
  {
   "cell_type": "code",
   "execution_count": 50,
   "id": "b0693d58",
   "metadata": {
    "ExecuteTime": {
     "end_time": "2021-06-26T14:34:56.373418Z",
     "start_time": "2021-06-26T14:34:56.367726Z"
    }
   },
   "outputs": [],
   "source": [
    "from sklearn.metrics import r2_score"
   ]
  },
  {
   "cell_type": "code",
   "execution_count": 51,
   "id": "7d4c1767",
   "metadata": {
    "ExecuteTime": {
     "end_time": "2021-06-26T14:34:57.837231Z",
     "start_time": "2021-06-26T14:34:57.830702Z"
    }
   },
   "outputs": [],
   "source": [
    "test_x_poly = poly.fit_transform(test_x)\n",
    "test_y_hat = model.predict(test_x_poly)"
   ]
  },
  {
   "cell_type": "code",
   "execution_count": 57,
   "id": "6ef75854",
   "metadata": {
    "ExecuteTime": {
     "end_time": "2021-06-26T14:42:18.824684Z",
     "start_time": "2021-06-26T14:42:18.813326Z"
    }
   },
   "outputs": [
    {
     "name": "stdout",
     "output_type": "stream",
     "text": [
      "Mean Absolute Error (MAE):  68.12909782089743\n",
      "R-2 score (Prediction performance):  0.7997411879133995\n"
     ]
    }
   ],
   "source": [
    "print(\"Mean Absolute Error (MAE): \", np.mean(np.abs(test_y_hat - test_y)))\n",
    "print(\"R-2 score (Prediction performance): \", r2_score(test_y, test_y_hat))"
   ]
  },
  {
   "cell_type": "markdown",
   "id": "4d5050e8",
   "metadata": {},
   "source": [
    "# Further practice"
   ]
  },
  {
   "cell_type": "markdown",
   "id": "f17e9ddf",
   "metadata": {},
   "source": [
    "Use a cubic regression and check if accuracy improves"
   ]
  },
  {
   "cell_type": "code",
   "execution_count": 59,
   "id": "0e0cd02e",
   "metadata": {
    "ExecuteTime": {
     "end_time": "2021-06-26T14:43:55.936190Z",
     "start_time": "2021-06-26T14:43:55.929645Z"
    }
   },
   "outputs": [],
   "source": [
    "poly = PolynomialFeatures(degree=3)\n",
    "train_x_poly = poly.fit_transform(train_x)"
   ]
  },
  {
   "cell_type": "code",
   "execution_count": 60,
   "id": "44fd9f12",
   "metadata": {
    "ExecuteTime": {
     "end_time": "2021-06-26T14:44:01.298133Z",
     "start_time": "2021-06-26T14:44:01.288714Z"
    }
   },
   "outputs": [
    {
     "data": {
      "text/plain": [
       "array([[ 1.   ,  2.4  ,  5.76 , 13.824],\n",
       "       [ 1.   ,  1.5  ,  2.25 ,  3.375],\n",
       "       [ 1.   ,  3.5  , 12.25 , 42.875],\n",
       "       ...,\n",
       "       [ 1.   ,  3.   ,  9.   , 27.   ],\n",
       "       [ 1.   ,  3.2  , 10.24 , 32.768],\n",
       "       [ 1.   ,  3.2  , 10.24 , 32.768]])"
      ]
     },
     "execution_count": 60,
     "metadata": {},
     "output_type": "execute_result"
    }
   ],
   "source": [
    "train_x_poly"
   ]
  },
  {
   "cell_type": "code",
   "execution_count": 62,
   "id": "c2dae0ce",
   "metadata": {
    "ExecuteTime": {
     "end_time": "2021-06-26T14:44:46.830123Z",
     "start_time": "2021-06-26T14:44:46.816463Z"
    }
   },
   "outputs": [
    {
     "data": {
      "text/plain": [
       "LinearRegression()"
      ]
     },
     "execution_count": 62,
     "metadata": {},
     "output_type": "execute_result"
    }
   ],
   "source": [
    "model = linear_model.LinearRegression()\n",
    "model.fit(train_x_poly, train_y)"
   ]
  },
  {
   "cell_type": "code",
   "execution_count": 64,
   "id": "57ecc661",
   "metadata": {
    "ExecuteTime": {
     "end_time": "2021-06-26T14:45:10.535639Z",
     "start_time": "2021-06-26T14:45:10.527851Z"
    }
   },
   "outputs": [
    {
     "name": "stdout",
     "output_type": "stream",
     "text": [
      "Model parameters:  [ 0.         17.67723412  7.57536074 -0.75998075]\n",
      "Model intercept:  142.0532359426389\n"
     ]
    }
   ],
   "source": [
    "print(\"Model parameters: \", model.coef_)\n",
    "print(\"Model intercept: \", model.intercept_)"
   ]
  },
  {
   "cell_type": "code",
   "execution_count": null,
   "id": "6b73babe",
   "metadata": {},
   "outputs": [],
   "source": []
  },
  {
   "cell_type": "code",
   "execution_count": 66,
   "id": "90f8eeb3",
   "metadata": {
    "ExecuteTime": {
     "end_time": "2021-06-26T14:46:10.295333Z",
     "start_time": "2021-06-26T14:46:10.025025Z"
    }
   },
   "outputs": [
    {
     "data": {
      "text/plain": [
       "Text(0, 0.5, 'Emission')"
      ]
     },
     "execution_count": 66,
     "metadata": {},
     "output_type": "execute_result"
    },
    {
     "data": {
      "image/png": "[encoded data removed]",
      "text/plain": [
       "<Figure size 432x288 with 1 Axes>"
      ]
     },
     "metadata": {
      "needs_background": "light"
     },
     "output_type": "display_data"
    }
   ],
   "source": [
    "plt.scatter(train.ENGINESIZE, train.CO2EMISSIONS,  color='blue')\n",
    "XX = np.arange(0.0, 10.0, 0.1)\n",
    "yy = model.intercept_+ model.coef_[1]*XX+ model.coef_[2]*np.power(XX, 2) + model.coef_[3]*np.power(XX, 3)\n",
    "plt.plot(XX, yy, '-r' )\n",
    "plt.xlabel(\"Engine size\")\n",
    "plt.ylabel(\"Emission\")"
   ]
  },
  {
   "cell_type": "markdown",
   "id": "c926e4e2",
   "metadata": {},
   "source": [
    "Evaluate performance"
   ]
  },
  {
   "cell_type": "code",
   "execution_count": 68,
   "id": "33523782",
   "metadata": {
    "ExecuteTime": {
     "end_time": "2021-06-26T14:48:08.383739Z",
     "start_time": "2021-06-26T14:48:08.377553Z"
    }
   },
   "outputs": [],
   "source": [
    "test_x_poly = poly.fit_transform(test_x)\n",
    "test_y_hat = model.predict(test_x_poly)"
   ]
  },
  {
   "cell_type": "code",
   "execution_count": 69,
   "id": "4ec951dd",
   "metadata": {
    "ExecuteTime": {
     "end_time": "2021-06-26T14:48:42.969641Z",
     "start_time": "2021-06-26T14:48:42.961594Z"
    }
   },
   "outputs": [
    {
     "name": "stdout",
     "output_type": "stream",
     "text": [
      "R2-score (Prediction performance):  0.7955568440948705\n"
     ]
    }
   ],
   "source": [
    "print(\"R2-score (Prediction performance): \", r2_score(test_y, test_y_hat))"
   ]
  },
  {
   "cell_type": "markdown",
   "id": "2af0e927",
   "metadata": {},
   "source": [
    "CONCLUSION: The performance of the prediction accuracy just improved marginally "
   ]
  },
  {
   "cell_type": "code",
   "execution_count": null,
   "id": "2555dddf",
   "metadata": {},
   "outputs": [],
   "source": []
  }
 ],
 "metadata": {
  "kernelspec": {
   "display_name": "Python 3",
   "language": "python",
   "name": "python3"
  },
  "language_info": {
   "codemirror_mode": {
    "name": "ipython",
    "version": 3
   },
   "file_extension": ".py",
   "mimetype": "text/x-python",
   "name": "python",
   "nbconvert_exporter": "python",
   "pygments_lexer": "ipython3",
   "version": "3.7.10"
  },
  "toc": {
   "base_numbering": 1,
   "nav_menu": {},
   "number_sections": true,
   "sideBar": true,
   "skip_h1_title": false,
   "title_cell": "Table of Contents",
   "title_sidebar": "Contents",
   "toc_cell": false,
   "toc_position": {},
   "toc_section_display": true,
   "toc_window_display": false
  }
 },
 "nbformat": 4,
 "nbformat_minor": 5
}
