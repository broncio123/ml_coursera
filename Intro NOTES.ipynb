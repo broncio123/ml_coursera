{
 "cells": [
  {
   "cell_type": "markdown",
   "id": "29497eed",
   "metadata": {},
   "source": [
    "How machine learning works?\n",
    "\n",
    "Pipeline for classification BEFORE ML\n",
    "\n",
    "* Raw data (pictures, videos, etc)\n",
    "* Feature extraction\n",
    "* Set of Rules (Classic)\n",
    "* Classification\n",
    "\n",
    "\n",
    "Pipeline for classification with ML\n",
    "* Raw data (pictures, videos, etc)\n",
    "* Feature extraction\n",
    "* ML model\n",
    "* Classification"
   ]
  },
  {
   "cell_type": "markdown",
   "id": "44d0c744",
   "metadata": {},
   "source": [
    "Examples\n",
    "\n",
    "* Prediction of defaul\n",
    "* Netflix recommendations "
   ]
  },
  {
   "cell_type": "markdown",
   "id": "810a5490",
   "metadata": {
    "ExecuteTime": {
     "end_time": "2021-06-26T08:47:51.234649Z",
     "start_time": "2021-06-26T08:47:51.214314Z"
    }
   },
   "source": [
    "Major ML techniques\n",
    "\n",
    "* Anomaly detection\n",
    "* Sequence mining\n",
    "* Dimension reduction\n",
    "* Recommendation systems\n",
    "\n"
   ]
  },
  {
   "cell_type": "markdown",
   "id": "0db52105",
   "metadata": {},
   "source": [
    "Difference between AI, ML, DL\n",
    "\n",
    "* AI aims to make computers to mimic human interligence\n",
    "* ML branch of AI\n",
    "* DL is a field of AI - deeper level of automation"
   ]
  },
  {
   "cell_type": "markdown",
   "id": "991d679f",
   "metadata": {},
   "source": [
    "Python libraries for ML\n",
    "\n",
    "* NumPy, SciPy, Matplotlib, Pandas (What do you use each them?)"
   ]
  },
  {
   "cell_type": "markdown",
   "id": "401e2269",
   "metadata": {},
   "source": [
    "* Scikit learn"
   ]
  },
  {
   "cell_type": "markdown",
   "id": "e7a14e75",
   "metadata": {},
   "source": [
    "Supervised Vs Unsupervised Learning\n",
    "\n",
    "Label data - Cancer patients' cells data\n",
    "Observation - raw in a chart with data\n",
    "Types of data: numeric and categorical\n",
    "\n",
    "Main types of supervised learning techniques\n",
    "* Classification -  prediction of categories/labels or categorical values\n",
    "* Regression - prediction of continuous values"
   ]
  },
  {
   "cell_type": "markdown",
   "id": "88ace865",
   "metadata": {},
   "source": [
    "__Unsupervised lerning__\n",
    "\n",
    "Algorithm trains from data and works out patterns or information\n",
    "\n",
    "Main unsupervised learning techniqyes\n",
    "* Dimension reduction\n",
    "* Density estimation\n",
    "* Market basket analysis - fi you buy certain group of items, then you're more likely to buy another group\n",
    "* Clustering"
   ]
  },
  {
   "cell_type": "markdown",
   "id": "e2897b00",
   "metadata": {},
   "source": [
    "_Clustering_ Grouping of data points or items that are similar"
   ]
  },
  {
   "cell_type": "markdown",
   "id": "42f999da",
   "metadata": {},
   "source": [
    "Unsupervised Learning: Deals with labelled data\n",
    "\n",
    "Unsupervised Learning: Deals with unlabelled data"
   ]
  },
  {
   "cell_type": "markdown",
   "id": "6145cdab",
   "metadata": {},
   "source": [
    "__Regression__"
   ]
  },
  {
   "cell_type": "markdown",
   "id": "f3e706b4",
   "metadata": {},
   "source": [
    "X independent\n",
    "Y dependent (convention)\n",
    "\n",
    "Use of _historical data_\n",
    "\n",
    "Types of regression\n",
    "\n",
    "* Simple regression: Simple linear regression & Simple Non-linear regression\n",
    "* Multiple regression (more than one independent variables)\n",
    "\n",
    "Several techniques of linear regression"
   ]
  },
  {
   "cell_type": "markdown",
   "id": "11fbcfd7",
   "metadata": {},
   "source": [
    "Regression -  prediction of a dependent variable from a dependent variable.\n",
    "\n",
    "Single predictor - indep var\n",
    "Response variable - dep var\n",
    "Residual error - difference between prediction and ground truth value\n",
    "Aim of regression - estimate parameters that minimise MSE (Mean Square Error)\n",
    "\n",
    "Two approaches:\n",
    "\n",
    "* Mathematical approach\n",
    "* Optimisation approach\n",
    "\n",
    "Unlike other ML methods - LR doesn't requre tunning of parameters, e.g., Knn "
   ]
  },
  {
   "cell_type": "markdown",
   "id": "6ca88e4c",
   "metadata": {},
   "source": [
    "Model Evaluation in Regression Models\n",
    "\n",
    "Best approach for most accurate results\n",
    "* Select portion of DS for training to build model\n",
    "* Test set, labels not used for prediction (Test and Training set overlap!?)\n",
    "\n",
    "Approaches to training\n",
    "\n",
    "* Train and Test on the same data set -  High training accuracy (Overfitting), Low training accuracy out-of-sample\n",
    "* Train/Test split evaluation - No overlapping between Train/Test data (mutually exclusive) - increased out-of-sample accuracy -  Issue: highly dependent on dataset used for training and testing\n",
    "* K-fold cross validation - Partition Different test sets.\n"
   ]
  },
  {
   "cell_type": "markdown",
   "id": "7d0e09f7",
   "metadata": {},
   "source": [
    "__Evaluation Matrices__\n",
    "\n",
    "Error - difference between a prediction and actual true value of a variable\n",
    "\n",
    "* MAE (Mean Absolute Error) - different to difference error!\n",
    "* MSE\n",
    "* RMSE\n",
    "* RAE (Relative Absolute Error)\n",
    "* RSE (Relative Squared Error)\n",
    "* R^2  = 1 - RSE"
   ]
  },
  {
   "cell_type": "markdown",
   "id": "a186526c",
   "metadata": {},
   "source": [
    "__Multiple Linear Regression__"
   ]
  },
  {
   "cell_type": "markdown",
   "id": "6282a8f0",
   "metadata": {},
   "source": [
    "* Independent vairables - predictors\n",
    "\n",
    "* Target variable or responsive var - dep var"
   ]
  },
  {
   "cell_type": "markdown",
   "id": "34fbe422",
   "metadata": {},
   "source": [
    "* Examine the effect of a predictor or indep on prediction, which is a significant predictor of the target variable.\n",
    "\n",
    "$$\\hat{y} = \\theta^T X$$"
   ]
  },
  {
   "cell_type": "markdown",
   "id": "2162455e",
   "metadata": {
    "ExecuteTime": {
     "end_time": "2021-06-26T11:23:01.970893Z",
     "start_time": "2021-06-26T11:23:01.960463Z"
    }
   },
   "source": [
    "Parameters or weight vector $\\theta^T = [\\theta_0, \\theta_1, \\theta_2, \\dots, \\theta_n]$"
   ]
  },
  {
   "cell_type": "markdown",
   "id": "cae7928a",
   "metadata": {},
   "source": [
    "NOTE: $\\theta_0$ the interceptor is called the _bias parameters_."
   ]
  },
  {
   "cell_type": "markdown",
   "id": "fc3ca9a3",
   "metadata": {},
   "source": [
    "Predictor vector\n",
    "\n",
    "$$\n",
    "X^T = [1, x_1, x_2, \\dots, x_n]\n",
    "$$"
   ]
  },
  {
   "cell_type": "markdown",
   "id": "b0c41291",
   "metadata": {},
   "source": [
    "How to estimate model parameters?\n",
    "\n",
    "* Least Squares \n",
    "\n",
    "> Find coefficients from minimising the MSE. Uses the data as a matrix, and employs Linear Algebra ops. PROBLEM: Time complexity of matrix operations, as can take a long time to finish. If No Rows < 10K, fine!\n",
    "\n",
    "* Optimisatin approach\n",
    "\n"
   ]
  },
  {
   "cell_type": "markdown",
   "id": "cbe2b522",
   "metadata": {},
   "source": [
    "> Iteratin algorithm. Process to minimise coefficients of model. _Gradient descent_, start with random values of parameters, computes error, and minimise through changes in coefficients in each iteration. "
   ]
  },
  {
   "cell_type": "markdown",
   "id": "312ae309",
   "metadata": {},
   "source": [
    "Usual concerns using linear regression\n",
    "\n",
    "* How many independent variables should we use? - not an obvious answer.\n",
    "* Does adding more variables always increase accuracy of the model? (Can result in overft)\n",
    "* Overfitted models can be too complicated for dataset and not general enough for predictions. Not advisable to use too many variables.\n",
    "* Should independent vars be continuous? - Can turn categorical vars into numerical vars.\n",
    "* How to check if linear relationship is a valid assumption? -  Use scatter plot for visual inspection. "
   ]
  },
  {
   "cell_type": "code",
   "execution_count": null,
   "id": "30716807",
   "metadata": {},
   "outputs": [],
   "source": []
  }
 ],
 "metadata": {
  "kernelspec": {
   "display_name": "Python 3",
   "language": "python",
   "name": "python3"
  },
  "language_info": {
   "codemirror_mode": {
    "name": "ipython",
    "version": 3
   },
   "file_extension": ".py",
   "mimetype": "text/x-python",
   "name": "python",
   "nbconvert_exporter": "python",
   "pygments_lexer": "ipython3",
   "version": "3.7.10"
  },
  "toc": {
   "base_numbering": 1,
   "nav_menu": {},
   "number_sections": true,
   "sideBar": true,
   "skip_h1_title": false,
   "title_cell": "Table of Contents",
   "title_sidebar": "Contents",
   "toc_cell": false,
   "toc_position": {},
   "toc_section_display": true,
   "toc_window_display": false
  }
 },
 "nbformat": 4,
 "nbformat_minor": 5
}
